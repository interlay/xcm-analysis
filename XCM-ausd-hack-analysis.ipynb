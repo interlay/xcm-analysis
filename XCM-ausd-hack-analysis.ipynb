{
 "cells": [
  {
   "cell_type": "code",
   "execution_count": 95,
   "id": "4125ef5d-c4bb-4f37-96fe-191206940ab9",
   "metadata": {},
   "outputs": [
    {
     "data": {
      "text/plain": [
       "326"
      ]
     },
     "execution_count": 95,
     "metadata": {},
     "output_type": "execute_result"
    }
   ],
   "source": [
    "import json\n",
    "  \n",
    "# Opening JSON file\n",
    "f = open('xcm-acala-interlay.json')\n",
    "  \n",
    "# returns JSON object as \n",
    "# a dictionary\n",
    "acala_interlay = json.load(f)\n",
    "len(acala_interlay)"
   ]
  },
  {
   "cell_type": "code",
   "execution_count": 96,
   "id": "5acbc045-cb24-4d87-b8e5-0d58d6bdabfd",
   "metadata": {},
   "outputs": [
    {
     "data": {
      "text/plain": [
       "271"
      ]
     },
     "execution_count": 96,
     "metadata": {},
     "output_type": "execute_result"
    }
   ],
   "source": [
    "import json\n",
    "  \n",
    "# Opening JSON file\n",
    "f = open('xcm-moonbeam-interlay.json')\n",
    "  \n",
    "# returns JSON object as \n",
    "# a dictionary\n",
    "moonbeam_interlay = json.load(f)\n",
    "len(moonbeam_interlay)"
   ]
  },
  {
   "cell_type": "code",
   "execution_count": 59,
   "id": "58734c6d-dcb4-4b32-93c4-7731b19e86ec",
   "metadata": {},
   "outputs": [],
   "source": [
    "acala_startblock = 1638215\n",
    "interlay_startblock = 975127\n",
    "\n",
    "ibtc_asset_code = '{\"Token\":\"IBTC\"}'"
   ]
  },
  {
   "cell_type": "code",
   "execution_count": 74,
   "id": "9a7c77bb-3dab-4649-9a33-87a03c1ae907",
   "metadata": {},
   "outputs": [
    {
     "data": {
      "text/plain": [
       "{'msgHash': '0x85416c55ac8d37412dd8f6150c1a41bf055891d1d02481a16a206443c0b2a6c2',\n",
       " 'extrinsicHash': '0x05c9452f4ab58509c8419b41249cec3ae79272f6991b469a09eaa212bc08c3e9',\n",
       " 'extrinsicID': '1639146-7',\n",
       " 'chainID': 2000,\n",
       " 'chainIDDest': 2032,\n",
       " 'blockNumber': '1639146',\n",
       " 'fromAddress': '0xc65841308cad09abfa6c62f505e91e980842039aefdd1f7cafd1ee47dd522016',\n",
       " 'destAddress': '0xc65841308cad09abfa6c62f505e91e980842039aefdd1f7cafd1ee47dd522016',\n",
       " 'sectionMethod': 'xTokens:TransferredMultiAssets',\n",
       " 'asset': '{\"Token\":\"IBTC\"}',\n",
       " 'rawAsset': '{\"Token\":\"IBTC\"}',\n",
       " 'nativeAssetChain': '{\"Token\":\"IBTC\"}~2032',\n",
       " 'blockNumberDest': 976075,\n",
       " 'sourceTS': 1660442112,\n",
       " 'destTS': 1660442130,\n",
       " 'amountSent': 0.00308416,\n",
       " 'amountReceived': 0.00308344,\n",
       " 'status': None,\n",
       " 'relayChain': 'polkadot',\n",
       " 'incomplete': 0,\n",
       " 'amountSentUSD': 0,\n",
       " 'amountReceivedUSD': 0,\n",
       " 'chainName': 'Acala',\n",
       " 'id': 'acala',\n",
       " 'idDest': 'interlay',\n",
       " 'chainDestName': 'Interlay'}"
      ]
     },
     "execution_count": 74,
     "metadata": {},
     "output_type": "execute_result"
    }
   ],
   "source": [
    "acala_interlay[0]"
   ]
  },
  {
   "cell_type": "markdown",
   "id": "a7326218-c757-4382-b605-08ff0ae734ba",
   "metadata": {},
   "source": [
    "# Total XCM transfers since start of attack"
   ]
  },
  {
   "cell_type": "code",
   "execution_count": 97,
   "id": "eb6cdcd2-3c88-45af-8ec0-35ca98a10898",
   "metadata": {},
   "outputs": [],
   "source": [
    "acala_interlay_since_attack = [x for x in acala_interlay if int(x[\"blockNumberDest\"] or 0) >= interlay_startblock and x[\"asset\"] == ibtc_asset_code]"
   ]
  },
  {
   "cell_type": "code",
   "execution_count": 98,
   "id": "c703fd7e-6849-4734-9fe4-f2e9dbdbd888",
   "metadata": {},
   "outputs": [],
   "source": [
    "moonbeam_interlay_since_attack = [x for x in moonbeam_interlay if int(x[\"blockNumberDest\"] or 0) >= interlay_startblock and x[\"asset\"] == ibtc_asset_code]"
   ]
  },
  {
   "cell_type": "code",
   "execution_count": 99,
   "id": "ade49b15-0125-4819-8beb-d44d1351dec3",
   "metadata": {},
   "outputs": [
    {
     "data": {
      "text/plain": [
       "9"
      ]
     },
     "execution_count": 99,
     "metadata": {},
     "output_type": "execute_result"
    }
   ],
   "source": [
    "len(acala_interlay_since_attack)"
   ]
  },
  {
   "cell_type": "code",
   "execution_count": 109,
   "id": "ce0b3c63-b80d-49a7-bf79-a576242fb988",
   "metadata": {},
   "outputs": [
    {
     "data": {
      "text/plain": [
       "[{'msgHash': '0x85416c55ac8d37412dd8f6150c1a41bf055891d1d02481a16a206443c0b2a6c2',\n",
       "  'extrinsicHash': '0x05c9452f4ab58509c8419b41249cec3ae79272f6991b469a09eaa212bc08c3e9',\n",
       "  'extrinsicID': '1639146-7',\n",
       "  'chainID': 2000,\n",
       "  'chainIDDest': 2032,\n",
       "  'blockNumber': '1639146',\n",
       "  'fromAddress': '0xc65841308cad09abfa6c62f505e91e980842039aefdd1f7cafd1ee47dd522016',\n",
       "  'destAddress': '0xc65841308cad09abfa6c62f505e91e980842039aefdd1f7cafd1ee47dd522016',\n",
       "  'sectionMethod': 'xTokens:TransferredMultiAssets',\n",
       "  'asset': '{\"Token\":\"IBTC\"}',\n",
       "  'rawAsset': '{\"Token\":\"IBTC\"}',\n",
       "  'nativeAssetChain': '{\"Token\":\"IBTC\"}~2032',\n",
       "  'blockNumberDest': 976075,\n",
       "  'sourceTS': 1660442112,\n",
       "  'destTS': 1660442130,\n",
       "  'amountSent': 0.00308416,\n",
       "  'amountReceived': 0.00308344,\n",
       "  'status': None,\n",
       "  'relayChain': 'polkadot',\n",
       "  'incomplete': 0,\n",
       "  'amountSentUSD': 0,\n",
       "  'amountReceivedUSD': 0,\n",
       "  'chainName': 'Acala',\n",
       "  'id': 'acala',\n",
       "  'idDest': 'interlay',\n",
       "  'chainDestName': 'Interlay'},\n",
       " {'msgHash': '0x4d7bc466ecb879e5510d36437e6096008619b10c70a4eca7a5bbbbacf3ad42a9',\n",
       "  'extrinsicHash': '0x1ba6c368d8e6377e6d820da3f391d9decd0b21f03d634e8e5bb6bdf09ba6c0f9',\n",
       "  'extrinsicID': '1639146-17',\n",
       "  'chainID': 2000,\n",
       "  'chainIDDest': 2032,\n",
       "  'blockNumber': '1639146',\n",
       "  'fromAddress': '0xd09a1884c8ca6641e644447f160be702de9c6748da6b51c553d6ff35cd8e4e08',\n",
       "  'destAddress': '0xd09a1884c8ca6641e644447f160be702de9c6748da6b51c553d6ff35cd8e4e08',\n",
       "  'sectionMethod': 'xTokens:TransferredMultiAssets',\n",
       "  'asset': '{\"Token\":\"IBTC\"}',\n",
       "  'rawAsset': '{\"Token\":\"IBTC\"}',\n",
       "  'nativeAssetChain': '{\"Token\":\"IBTC\"}~2032',\n",
       "  'blockNumberDest': 976075,\n",
       "  'sourceTS': 1660442112,\n",
       "  'destTS': 1660442130,\n",
       "  'amountSent': 0.13874882,\n",
       "  'amountReceived': 0.1387481,\n",
       "  'status': None,\n",
       "  'relayChain': 'polkadot',\n",
       "  'incomplete': 0,\n",
       "  'amountSentUSD': 0,\n",
       "  'amountReceivedUSD': 0,\n",
       "  'fromAddress_info': {'kusamaAddress': 'HHqFg5F614f5NDsscCtE1QW3gUatAoS2ooD9iJigCGzSRA4',\n",
       "   'additional': [[{'Raw': 'background'},\n",
       "     {'Raw': '3f609ce338f7fb16a21bb027979b6d94'}]]},\n",
       "  'fromAddress_judgements': [],\n",
       "  'destAddress_info': {'kusamaAddress': 'HHqFg5F614f5NDsscCtE1QW3gUatAoS2ooD9iJigCGzSRA4',\n",
       "   'additional': [[{'Raw': 'background'},\n",
       "     {'Raw': '3f609ce338f7fb16a21bb027979b6d94'}]]},\n",
       "  'destAddress_judgements': [],\n",
       "  'chainName': 'Acala',\n",
       "  'id': 'acala',\n",
       "  'idDest': 'interlay',\n",
       "  'chainDestName': 'Interlay'},\n",
       " {'msgHash': '0x0d338a8187b734961b999b36800cf0712ff0be85b5b1628e53e3e349b3bf8c84',\n",
       "  'extrinsicHash': '0xc1ff96d97f6fadd205284f4d72036cfe63e03f6e2ebd71c1d8d0fa91c1ede817',\n",
       "  'extrinsicID': '1639141-11',\n",
       "  'chainID': 2000,\n",
       "  'chainIDDest': 2032,\n",
       "  'blockNumber': '1639141',\n",
       "  'fromAddress': '0xa07e831679493815f8270f903d48495e0761757575e0a2345579ebce9a694e1f',\n",
       "  'destAddress': '0xa07e831679493815f8270f903d48495e0761757575e0a2345579ebce9a694e1f',\n",
       "  'sectionMethod': 'xTokens:TransferredMultiAssets',\n",
       "  'asset': '{\"Token\":\"IBTC\"}',\n",
       "  'rawAsset': '{\"Token\":\"IBTC\"}',\n",
       "  'nativeAssetChain': '{\"Token\":\"IBTC\"}~2032',\n",
       "  'blockNumberDest': 976069,\n",
       "  'sourceTS': 1660442046,\n",
       "  'destTS': 1660442058,\n",
       "  'amountSent': 0.00413289,\n",
       "  'amountReceived': 0.00413217,\n",
       "  'status': None,\n",
       "  'relayChain': 'polkadot',\n",
       "  'incomplete': 0,\n",
       "  'amountSentUSD': 0,\n",
       "  'amountReceivedUSD': 0,\n",
       "  'chainName': 'Acala',\n",
       "  'id': 'acala',\n",
       "  'idDest': 'interlay',\n",
       "  'chainDestName': 'Interlay'},\n",
       " {'msgHash': '0xcb7e47cf4b766ac6c00e3eb627e15e491e418fc2ce862d2593e5f1f33f32db7f',\n",
       "  'extrinsicHash': '0x5cf00c36f1bb59aa6550178c7ba148f3f504b0061546f513c923ee54e4b13e5f',\n",
       "  'extrinsicID': '1639139-7',\n",
       "  'chainID': 2000,\n",
       "  'chainIDDest': 2032,\n",
       "  'blockNumber': '1639139',\n",
       "  'fromAddress': '0x78a2131d96076c4fd0cf7e06239934881bc57d197b16ac12e1c1554759c4d65e',\n",
       "  'destAddress': '0x78a2131d96076c4fd0cf7e06239934881bc57d197b16ac12e1c1554759c4d65e',\n",
       "  'sectionMethod': 'xTokens:TransferredMultiAssets',\n",
       "  'asset': '{\"Token\":\"IBTC\"}',\n",
       "  'rawAsset': '{\"Token\":\"IBTC\"}',\n",
       "  'nativeAssetChain': '{\"Token\":\"IBTC\"}~2032',\n",
       "  'blockNumberDest': 976067,\n",
       "  'sourceTS': 1660442022,\n",
       "  'destTS': 1660442035,\n",
       "  'amountSent': 1.80114459,\n",
       "  'amountReceived': 1.80114387,\n",
       "  'status': None,\n",
       "  'relayChain': 'polkadot',\n",
       "  'incomplete': 0,\n",
       "  'amountSentUSD': 0,\n",
       "  'amountReceivedUSD': 0,\n",
       "  'chainName': 'Acala',\n",
       "  'id': 'acala',\n",
       "  'idDest': 'interlay',\n",
       "  'chainDestName': 'Interlay'},\n",
       " {'msgHash': '0x161c6280bcaabf17b972945c696f3ab71193443781b8624a59320593b6df69ac',\n",
       "  'extrinsicHash': '0x6a38b8eb033d77843769de51dabb390e1e4e89de65f3a20f0b31d3df2b04c054',\n",
       "  'extrinsicID': '1639018-9',\n",
       "  'chainID': 2000,\n",
       "  'chainIDDest': 2032,\n",
       "  'blockNumber': '1639018',\n",
       "  'fromAddress': '0x78a2131d96076c4fd0cf7e06239934881bc57d197b16ac12e1c1554759c4d65e',\n",
       "  'destAddress': '0x78a2131d96076c4fd0cf7e06239934881bc57d197b16ac12e1c1554759c4d65e',\n",
       "  'sectionMethod': 'xTokens:TransferredMultiAssets',\n",
       "  'asset': '{\"Token\":\"IBTC\"}',\n",
       "  'rawAsset': '{\"Token\":\"IBTC\"}',\n",
       "  'nativeAssetChain': '{\"Token\":\"IBTC\"}~2032',\n",
       "  'blockNumberDest': 975940,\n",
       "  'sourceTS': 1660440480,\n",
       "  'destTS': 1660440493,\n",
       "  'amountSent': 1.20507469,\n",
       "  'amountReceived': 1.20507397,\n",
       "  'status': None,\n",
       "  'relayChain': 'polkadot',\n",
       "  'incomplete': 0,\n",
       "  'amountSentUSD': 0,\n",
       "  'amountReceivedUSD': 0,\n",
       "  'chainName': 'Acala',\n",
       "  'id': 'acala',\n",
       "  'idDest': 'interlay',\n",
       "  'chainDestName': 'Interlay'},\n",
       " {'msgHash': '0x39218ba5d967e1b653a27afa36f4679374f66a477549b52c2da5864919b71592',\n",
       "  'extrinsicHash': '0x8d1a6c64faf14aa5edc51a01115c0c1fce0f3252b8c1e11344a3ed98efcbf4dd',\n",
       "  'extrinsicID': '1638921-7',\n",
       "  'chainID': 2000,\n",
       "  'chainIDDest': 2032,\n",
       "  'blockNumber': '1638921',\n",
       "  'fromAddress': '0xb8bc052ea768082988fab19385c73e485d4c2bc36b921b7516544b0a2824bf46',\n",
       "  'destAddress': '0xb8bc052ea768082988fab19385c73e485d4c2bc36b921b7516544b0a2824bf46',\n",
       "  'sectionMethod': 'xTokens:TransferredMultiAssets',\n",
       "  'asset': '{\"Token\":\"IBTC\"}',\n",
       "  'rawAsset': '{\"Token\":\"IBTC\"}',\n",
       "  'nativeAssetChain': '{\"Token\":\"IBTC\"}~2032',\n",
       "  'blockNumberDest': 975841,\n",
       "  'sourceTS': 1660439274,\n",
       "  'destTS': 1660439292,\n",
       "  'amountSent': 0.24483005,\n",
       "  'amountReceived': 0.24482933,\n",
       "  'status': None,\n",
       "  'relayChain': 'polkadot',\n",
       "  'incomplete': 0,\n",
       "  'amountSentUSD': 0,\n",
       "  'amountReceivedUSD': 0,\n",
       "  'chainName': 'Acala',\n",
       "  'id': 'acala',\n",
       "  'idDest': 'interlay',\n",
       "  'chainDestName': 'Interlay'},\n",
       " {'msgHash': '0x8fab65e2a739b1ce37321c962d1ed66404bea46637bd63430c011c8b211fdf8b',\n",
       "  'extrinsicHash': '0x2d38a5cbb7c59efa49ffe8589ed7a42b66527651f198c93a516a8171caa96fee',\n",
       "  'extrinsicID': '1638721-6',\n",
       "  'chainID': 2000,\n",
       "  'chainIDDest': 2032,\n",
       "  'blockNumber': '1638721',\n",
       "  'fromAddress': '0xb8bc052ea768082988fab19385c73e485d4c2bc36b921b7516544b0a2824bf46',\n",
       "  'destAddress': '0xb8bc052ea768082988fab19385c73e485d4c2bc36b921b7516544b0a2824bf46',\n",
       "  'sectionMethod': 'xTokens:TransferredMultiAssets',\n",
       "  'asset': '{\"Token\":\"IBTC\"}',\n",
       "  'rawAsset': '{\"Token\":\"IBTC\"}',\n",
       "  'nativeAssetChain': '{\"Token\":\"IBTC\"}~2032',\n",
       "  'blockNumberDest': 975637,\n",
       "  'sourceTS': 1660436784,\n",
       "  'destTS': 1660436796,\n",
       "  'amountSent': 0.15432878,\n",
       "  'amountReceived': 0.15432806,\n",
       "  'status': None,\n",
       "  'relayChain': 'polkadot',\n",
       "  'incomplete': 0,\n",
       "  'amountSentUSD': 0,\n",
       "  'amountReceivedUSD': 0,\n",
       "  'chainName': 'Acala',\n",
       "  'id': 'acala',\n",
       "  'idDest': 'interlay',\n",
       "  'chainDestName': 'Interlay'},\n",
       " {'msgHash': '0x1cd990c3111aa8370db24696f0eb17a43b5214c3d811d20daef8fe3cb3657428',\n",
       "  'extrinsicHash': '0xb9f5920f9f76f53e07a237f3e41b22e0634115dc7ddd458124340b972e14a1c8',\n",
       "  'extrinsicID': '1638684-2',\n",
       "  'chainID': 2000,\n",
       "  'chainIDDest': 2032,\n",
       "  'blockNumber': '1638684',\n",
       "  'fromAddress': '0xd09a1884c8ca6641e644447f160be702de9c6748da6b51c553d6ff35cd8e4e08',\n",
       "  'destAddress': '0xd09a1884c8ca6641e644447f160be702de9c6748da6b51c553d6ff35cd8e4e08',\n",
       "  'sectionMethod': 'xTokens:TransferredMultiAssets',\n",
       "  'asset': '{\"Token\":\"IBTC\"}',\n",
       "  'rawAsset': '{\"Token\":\"IBTC\"}',\n",
       "  'nativeAssetChain': '{\"Token\":\"IBTC\"}~2032',\n",
       "  'blockNumberDest': 975599,\n",
       "  'sourceTS': 1660436316,\n",
       "  'destTS': 1660436341,\n",
       "  'amountSent': 0.00621053,\n",
       "  'amountReceived': 0.00620981,\n",
       "  'status': None,\n",
       "  'relayChain': 'polkadot',\n",
       "  'incomplete': 0,\n",
       "  'amountSentUSD': 0,\n",
       "  'amountReceivedUSD': 0,\n",
       "  'fromAddress_info': {'kusamaAddress': 'HHqFg5F614f5NDsscCtE1QW3gUatAoS2ooD9iJigCGzSRA4',\n",
       "   'additional': [[{'Raw': 'background'},\n",
       "     {'Raw': '3f609ce338f7fb16a21bb027979b6d94'}]]},\n",
       "  'fromAddress_judgements': [],\n",
       "  'destAddress_info': {'kusamaAddress': 'HHqFg5F614f5NDsscCtE1QW3gUatAoS2ooD9iJigCGzSRA4',\n",
       "   'additional': [[{'Raw': 'background'},\n",
       "     {'Raw': '3f609ce338f7fb16a21bb027979b6d94'}]]},\n",
       "  'destAddress_judgements': [],\n",
       "  'chainName': 'Acala',\n",
       "  'id': 'acala',\n",
       "  'idDest': 'interlay',\n",
       "  'chainDestName': 'Interlay'},\n",
       " {'msgHash': '0x33cce174cc8d5402ee2f24acc321008286637375d3e81fe7873822e3a09fbf80',\n",
       "  'extrinsicHash': '0x1e98acb09944e0f255febc9ae25b61ba11a147d73a394fc0f626ebaee9c62793',\n",
       "  'extrinsicID': '1638288-2',\n",
       "  'chainID': 2000,\n",
       "  'chainIDDest': 2032,\n",
       "  'blockNumber': '1638288',\n",
       "  'fromAddress': '0xae3a2acf23a65b9d048e3835c84121d39698c88d38a448e7f200ed004ff56d60',\n",
       "  'destAddress': '0xae3a2acf23a65b9d048e3835c84121d39698c88d38a448e7f200ed004ff56d60',\n",
       "  'sectionMethod': 'xTokens:TransferredMultiAssets',\n",
       "  'asset': '{\"Token\":\"IBTC\"}',\n",
       "  'rawAsset': '{\"Token\":\"IBTC\"}',\n",
       "  'nativeAssetChain': '{\"Token\":\"IBTC\"}~2032',\n",
       "  'blockNumberDest': 975202,\n",
       "  'sourceTS': 1660431397,\n",
       "  'destTS': 1660431408,\n",
       "  'amountSent': 0.06612532,\n",
       "  'amountReceived': 0.0661246,\n",
       "  'status': None,\n",
       "  'relayChain': 'polkadot',\n",
       "  'incomplete': 0,\n",
       "  'amountSentUSD': 0,\n",
       "  'amountReceivedUSD': 0,\n",
       "  'chainName': 'Acala',\n",
       "  'id': 'acala',\n",
       "  'idDest': 'interlay',\n",
       "  'chainDestName': 'Interlay'}]"
      ]
     },
     "execution_count": 109,
     "metadata": {},
     "output_type": "execute_result"
    }
   ],
   "source": [
    "acala_interlay_since_attack"
   ]
  },
  {
   "cell_type": "code",
   "execution_count": 100,
   "id": "586f2db1-c61a-4f66-8db0-ba9acbdf88cd",
   "metadata": {},
   "outputs": [
    {
     "data": {
      "text/plain": [
       "83"
      ]
     },
     "execution_count": 100,
     "metadata": {},
     "output_type": "execute_result"
    }
   ],
   "source": [
    "len(moonbeam_interlay_since_attack)"
   ]
  },
  {
   "cell_type": "code",
   "execution_count": null,
   "id": "39290409-d802-4171-b090-d79c4105ef07",
   "metadata": {},
   "outputs": [],
   "source": []
  },
  {
   "cell_type": "markdown",
   "id": "50fd2769-a7c2-4d9f-880c-9aaa7979349f",
   "metadata": {},
   "source": [
    "## iBTC Sent via XCM "
   ]
  },
  {
   "cell_type": "markdown",
   "id": "0b6529ff-7ade-435c-8078-bb208afa68da",
   "metadata": {},
   "source": [
    "### Acala"
   ]
  },
  {
   "cell_type": "code",
   "execution_count": 90,
   "id": "79783e3b-42f7-4a79-ad6d-94a4679285fd",
   "metadata": {},
   "outputs": [
    {
     "data": {
      "text/plain": [
       "3.6236798300000004"
      ]
     },
     "execution_count": 90,
     "metadata": {},
     "output_type": "execute_result"
    }
   ],
   "source": [
    "iBTC_sent_by_acala = sum([x[\"amountSent\"] for x in acala_interlay_since_attack])\n",
    "iBTC_sent_by_acala"
   ]
  },
  {
   "cell_type": "code",
   "execution_count": 91,
   "id": "d2f4c262-f772-401a-8ce4-36e38ffcbd4b",
   "metadata": {},
   "outputs": [
    {
     "data": {
      "text/plain": [
       "3.6236733500000002"
      ]
     },
     "execution_count": 91,
     "metadata": {},
     "output_type": "execute_result"
    }
   ],
   "source": [
    "iBTC_received_from_acala =  sum([x[\"amountReceived\"] for x in acala_interlay_since_attack])\n",
    "iBTC_received_from_acala"
   ]
  },
  {
   "cell_type": "markdown",
   "id": "53c4d54b-2ea5-43be-b5a1-0a1c699e404d",
   "metadata": {},
   "source": [
    "### Moonbeam"
   ]
  },
  {
   "cell_type": "code",
   "execution_count": 93,
   "id": "b403b179-bf3d-4c4a-abcd-e57d401c8d9c",
   "metadata": {},
   "outputs": [
    {
     "data": {
      "text/plain": [
       "2.31959467"
      ]
     },
     "execution_count": 93,
     "metadata": {},
     "output_type": "execute_result"
    }
   ],
   "source": [
    "iBTC_sent_by_moonbeam = sum([x[\"amountSent\"] for x in moonbeam_interlay_since_attack])\n",
    "iBTC_sent_by_moonbeam"
   ]
  },
  {
   "cell_type": "code",
   "execution_count": 94,
   "id": "67542d5b-535a-4031-80d4-7ae38b59104b",
   "metadata": {},
   "outputs": [
    {
     "data": {
      "text/plain": [
       "2.3195349100000024"
      ]
     },
     "execution_count": 94,
     "metadata": {},
     "output_type": "execute_result"
    }
   ],
   "source": [
    "iBTC_received_from_moonbeam =  sum([x[\"amountReceived\"] for x in moonbeam_interlay_since_attack])\n",
    "iBTC_received_from_moonbeam"
   ]
  },
  {
   "cell_type": "markdown",
   "id": "3f22ca4a-b01d-40df-98bb-d441e990992a",
   "metadata": {},
   "source": [
    "### Accounts on Interlay that received iBTC via XCM after attack started"
   ]
  },
  {
   "cell_type": "code",
   "execution_count": 105,
   "id": "1429b1c6-943a-439f-9979-c819dce3da39",
   "metadata": {},
   "outputs": [
    {
     "data": {
      "text/plain": [
       "6"
      ]
     },
     "execution_count": 105,
     "metadata": {},
     "output_type": "execute_result"
    }
   ],
   "source": [
    "accounts_from_acala = set([x[\"destAddress\"] for x in acala_interlay_since_attack])#\n",
    "len(accounts_from_acala)"
   ]
  },
  {
   "cell_type": "code",
   "execution_count": 107,
   "id": "0e706cc3-98d5-4dad-8455-73f2553870f2",
   "metadata": {},
   "outputs": [
    {
     "data": {
      "text/plain": [
       "{'0x78a2131d96076c4fd0cf7e06239934881bc57d197b16ac12e1c1554759c4d65e',\n",
       " '0xa07e831679493815f8270f903d48495e0761757575e0a2345579ebce9a694e1f',\n",
       " '0xae3a2acf23a65b9d048e3835c84121d39698c88d38a448e7f200ed004ff56d60',\n",
       " '0xb8bc052ea768082988fab19385c73e485d4c2bc36b921b7516544b0a2824bf46',\n",
       " '0xc65841308cad09abfa6c62f505e91e980842039aefdd1f7cafd1ee47dd522016',\n",
       " '0xd09a1884c8ca6641e644447f160be702de9c6748da6b51c553d6ff35cd8e4e08'}"
      ]
     },
     "execution_count": 107,
     "metadata": {},
     "output_type": "execute_result"
    }
   ],
   "source": [
    "accounts_from_acala"
   ]
  },
  {
   "cell_type": "code",
   "execution_count": 106,
   "id": "ff2e59d6-9ad5-4484-89bb-77b0521853e3",
   "metadata": {},
   "outputs": [
    {
     "data": {
      "text/plain": [
       "17"
      ]
     },
     "execution_count": 106,
     "metadata": {},
     "output_type": "execute_result"
    }
   ],
   "source": [
    "accounts_from_moonbeam = set([x[\"destAddress\"] for x in moonbeam_interlay_since_attack])\n",
    "len(accounts_from_moonbeam)"
   ]
  },
  {
   "cell_type": "code",
   "execution_count": 108,
   "id": "a3d86b3f-abe8-4bc5-8e81-08342acc54a5",
   "metadata": {},
   "outputs": [
    {
     "data": {
      "text/plain": [
       "{'0x06acb4395afa4f5cbaf90376b04e657bd9b7c0267a806dc5ce09c97cc2562a25',\n",
       " '0x26abeb5aa3dad23b0664de001d2cd5ba36bcc395ba7e006327f4f8f2afbac07b',\n",
       " '0x542f6a676208c8d377ed246b04e031e2f97d4e190e6045fd6060840a87545d2d',\n",
       " '0x5835e670318b79c3c79ebb94b55171d83b031dfa29c761c88550613cb911d33e',\n",
       " '0x64c240c47592bcfef2e48b1da1b04d0022e03162520b9cd84eaea7717b15905d',\n",
       " '0x704af31b65f68c7d6a7c2c11f287da2eb1d2e61a8b8db214ea3186175f33532a',\n",
       " '0x764789e3ae824b2412cd813d8cee45893e951ded7ef93b68940c5ed7b794ac38',\n",
       " '0x9a8260623bc5831d8c2b343584a77007782cf231f8063e2caa2abb4ff686c466',\n",
       " '0xa07e831679493815f8270f903d48495e0761757575e0a2345579ebce9a694e1f',\n",
       " '0xae3a2acf23a65b9d048e3835c84121d39698c88d38a448e7f200ed004ff56d60',\n",
       " '0xb881c3e7bbaed7522c8b906a9a63e6572f02f87ae76236a8f06124102061765d',\n",
       " '0xb8bc052ea768082988fab19385c73e485d4c2bc36b921b7516544b0a2824bf46',\n",
       " '0xc65841308cad09abfa6c62f505e91e980842039aefdd1f7cafd1ee47dd522016',\n",
       " '0xc89196fbcc06e76a7f9ae6a570508ec5c9f6966a4a4ccc1e3e4b250f55901952',\n",
       " '0xce967d95cce9a971fade4f66634a43c17edba699d1904883894b0d8b4cb90d36',\n",
       " '0xd09a1884c8ca6641e644447f160be702de9c6748da6b51c553d6ff35cd8e4e08',\n",
       " '0xd8f2136d8b8f2ffc7d3be7aea33493c726f3b94852b0c57ff70953f5ead30b26'}"
      ]
     },
     "execution_count": 108,
     "metadata": {},
     "output_type": "execute_result"
    }
   ],
   "source": [
    "accounts_from_moonbeam"
   ]
  },
  {
   "cell_type": "code",
   "execution_count": null,
   "id": "ad4995b4-0b44-48d9-9493-fddb3f6da7e8",
   "metadata": {},
   "outputs": [],
   "source": []
  }
 ],
 "metadata": {
  "kernelspec": {
   "display_name": "Python 3 (ipykernel)",
   "language": "python",
   "name": "python3"
  },
  "language_info": {
   "codemirror_mode": {
    "name": "ipython",
    "version": 3
   },
   "file_extension": ".py",
   "mimetype": "text/x-python",
   "name": "python",
   "nbconvert_exporter": "python",
   "pygments_lexer": "ipython3",
   "version": "3.8.10"
  }
 },
 "nbformat": 4,
 "nbformat_minor": 5
}
