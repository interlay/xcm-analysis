{
 "cells": [
  {
   "cell_type": "code",
   "execution_count": 1,
   "id": "95590a8b-19bc-4a85-a125-2846f6e4714e",
   "metadata": {},
   "outputs": [],
   "source": [
    "import json \n",
    "import requests\n",
    "from substrateinterface.utils.ss58 import ss58_decode, ss58_encode\n",
    "\n",
    "\n",
    "polkaholic_url = \"https://api.polkaholic.io/search/xcmtransfers\""
   ]
  },
  {
   "cell_type": "code",
   "execution_count": 2,
   "id": "4125ef5d-c4bb-4f37-96fe-191206940ab9",
   "metadata": {},
   "outputs": [],
   "source": [
    "# acala --> interlay xcm data\n",
    "r = requests.post(polkaholic_url, json={\"chainID\": \"acala\", \"chainIDDest\": \"interlay\"})\n",
    "acala_interlay = r.json()"
   ]
  },
  {
   "cell_type": "code",
   "execution_count": 3,
   "id": "c4869ef0-26c1-4cdc-83cf-23a1e1286c0b",
   "metadata": {},
   "outputs": [],
   "source": [
    "# moonbeam --> interlay xcm data\n",
    "r = requests.post(polkaholic_url, json={\"chainID\": \"moonbeam\", \"chainIDDest\": \"interlay\"})\n",
    "moonbeam_interlay = r.json()"
   ]
  },
  {
   "cell_type": "code",
   "execution_count": 28,
   "id": "8530f3e1-a1f2-4389-8173-29f3652a051f",
   "metadata": {},
   "outputs": [
    {
     "data": {
      "text/plain": [
       "{'msgHash': '0xe17f82622410b7ed5669cab0aed4d27cdfeff4779c42e457a366fa20f5afa68e',\n",
       " 'extrinsicHash': '0x9dcd31cc5eec5337a37998f36a89860e36c94e5764cbf46fdd1fc175b39f3ed7',\n",
       " 'extrinsicID': '1651428-19',\n",
       " 'chainID': 2004,\n",
       " 'chainIDDest': 2032,\n",
       " 'blockNumber': '1651428',\n",
       " 'fromAddress': '0x07d6e8987a17b95eee44fbd2b7bb65c34442a5c7',\n",
       " 'destAddress': '0x5835e670318b79c3c79ebb94b55171d83b031dfa29c761c88550613cb911d33e',\n",
       " 'sectionMethod': 'xTokens:TransferredMultiAssets',\n",
       " 'asset': '{\"Token\":\"IBTC\"}',\n",
       " 'rawAsset': '{\"Token\":\"IBTC\"}',\n",
       " 'nativeAssetChain': '{\"Token\":\"IBTC\"}~2032',\n",
       " 'blockNumberDest': 980010,\n",
       " 'sourceTS': 1660491354,\n",
       " 'destTS': 1660491380,\n",
       " 'amountSent': 0.3204402,\n",
       " 'amountReceived': 0.32043948,\n",
       " 'status': None,\n",
       " 'relayChain': 'polkadot',\n",
       " 'incomplete': 0,\n",
       " 'amountSentUSD': 0,\n",
       " 'amountReceivedUSD': 0,\n",
       " 'chainName': 'Moonbeam',\n",
       " 'id': 'moonbeam',\n",
       " 'idDest': 'interlay',\n",
       " 'chainDestName': 'Interlay'}"
      ]
     },
     "execution_count": 28,
     "metadata": {},
     "output_type": "execute_result"
    }
   ],
   "source": [
    "moonbeam_interlay[0]"
   ]
  },
  {
   "cell_type": "code",
   "execution_count": 4,
   "id": "58734c6d-dcb4-4b32-93c4-7731b19e86ec",
   "metadata": {},
   "outputs": [],
   "source": [
    "acala_startblock = 1638215\n",
    "interlay_startblock = 975127\n",
    "\n",
    "ibtc_asset_code = '{\"Token\":\"IBTC\"}'"
   ]
  },
  {
   "cell_type": "markdown",
   "id": "a7326218-c757-4382-b605-08ff0ae734ba",
   "metadata": {},
   "source": [
    "# Total XCM transfers since start of attack"
   ]
  },
  {
   "cell_type": "code",
   "execution_count": 5,
   "id": "eb6cdcd2-3c88-45af-8ec0-35ca98a10898",
   "metadata": {},
   "outputs": [],
   "source": [
    "acala_interlay_since_attack = [x for x in acala_interlay if int(x[\"blockNumberDest\"] or 0) >= interlay_startblock and x[\"asset\"] == ibtc_asset_code]"
   ]
  },
  {
   "cell_type": "code",
   "execution_count": 6,
   "id": "c703fd7e-6849-4734-9fe4-f2e9dbdbd888",
   "metadata": {},
   "outputs": [],
   "source": [
    "moonbeam_interlay_since_attack = [x for x in moonbeam_interlay if int(x[\"blockNumberDest\"] or 0) >= interlay_startblock and x[\"asset\"] == ibtc_asset_code]"
   ]
  },
  {
   "cell_type": "code",
   "execution_count": 7,
   "id": "ade49b15-0125-4819-8beb-d44d1351dec3",
   "metadata": {},
   "outputs": [
    {
     "data": {
      "text/plain": [
       "9"
      ]
     },
     "execution_count": 7,
     "metadata": {},
     "output_type": "execute_result"
    }
   ],
   "source": [
    "len(acala_interlay_since_attack)"
   ]
  },
  {
   "cell_type": "code",
   "execution_count": 8,
   "id": "586f2db1-c61a-4f66-8db0-ba9acbdf88cd",
   "metadata": {},
   "outputs": [
    {
     "data": {
      "text/plain": [
       "90"
      ]
     },
     "execution_count": 8,
     "metadata": {},
     "output_type": "execute_result"
    }
   ],
   "source": [
    "len(moonbeam_interlay_since_attack)"
   ]
  },
  {
   "cell_type": "code",
   "execution_count": null,
   "id": "6c42a25e-695f-4cd9-8440-ff0c18154d88",
   "metadata": {},
   "outputs": [],
   "source": [
    "moonbeam_temp = [moonbeam_interlay_since_attack]"
   ]
  },
  {
   "cell_type": "markdown",
   "id": "50fd2769-a7c2-4d9f-880c-9aaa7979349f",
   "metadata": {},
   "source": [
    "## iBTC Sent via XCM "
   ]
  },
  {
   "cell_type": "markdown",
   "id": "0b6529ff-7ade-435c-8078-bb208afa68da",
   "metadata": {},
   "source": [
    "### Acala"
   ]
  },
  {
   "cell_type": "code",
   "execution_count": 9,
   "id": "79783e3b-42f7-4a79-ad6d-94a4679285fd",
   "metadata": {},
   "outputs": [
    {
     "data": {
      "text/plain": [
       "3.6236798300000004"
      ]
     },
     "execution_count": 9,
     "metadata": {},
     "output_type": "execute_result"
    }
   ],
   "source": [
    "iBTC_sent_by_acala = sum([x[\"amountSent\"] for x in acala_interlay_since_attack])\n",
    "iBTC_sent_by_acala"
   ]
  },
  {
   "cell_type": "code",
   "execution_count": 10,
   "id": "d2f4c262-f772-401a-8ce4-36e38ffcbd4b",
   "metadata": {},
   "outputs": [
    {
     "data": {
      "text/plain": [
       "3.6236733500000002"
      ]
     },
     "execution_count": 10,
     "metadata": {},
     "output_type": "execute_result"
    }
   ],
   "source": [
    "iBTC_received_from_acala =  sum([x[\"amountReceived\"] for x in acala_interlay_since_attack])\n",
    "iBTC_received_from_acala"
   ]
  },
  {
   "cell_type": "markdown",
   "id": "53c4d54b-2ea5-43be-b5a1-0a1c699e404d",
   "metadata": {},
   "source": [
    "### Moonbeam"
   ]
  },
  {
   "cell_type": "code",
   "execution_count": null,
   "id": "c206c604-4d41-4f40-adab-0456d50294c6",
   "metadata": {},
   "outputs": [],
   "source": []
  },
  {
   "cell_type": "code",
   "execution_count": 11,
   "id": "b403b179-bf3d-4c4a-abcd-e57d401c8d9c",
   "metadata": {},
   "outputs": [
    {
     "data": {
      "text/plain": [
       "2.8553268500000004"
      ]
     },
     "execution_count": 11,
     "metadata": {},
     "output_type": "execute_result"
    }
   ],
   "source": [
    "iBTC_sent_by_moonbeam = sum([x[\"amountSent\"] for x in moonbeam_interlay_since_attack])\n",
    "iBTC_sent_by_moonbeam"
   ]
  },
  {
   "cell_type": "code",
   "execution_count": 12,
   "id": "67542d5b-535a-4031-80d4-7ae38b59104b",
   "metadata": {},
   "outputs": [
    {
     "data": {
      "text/plain": [
       "2.8552620500000008"
      ]
     },
     "execution_count": 12,
     "metadata": {},
     "output_type": "execute_result"
    }
   ],
   "source": [
    "iBTC_received_from_moonbeam =  sum([x[\"amountReceived\"] for x in moonbeam_interlay_since_attack])\n",
    "iBTC_received_from_moonbeam"
   ]
  },
  {
   "cell_type": "markdown",
   "id": "3f22ca4a-b01d-40df-98bb-d441e990992a",
   "metadata": {},
   "source": [
    "### Accounts on Interlay that received iBTC via XCM after attack started"
   ]
  },
  {
   "cell_type": "code",
   "execution_count": 13,
   "id": "45971cf8-4b23-4996-b643-c1bdc94c23a1",
   "metadata": {},
   "outputs": [],
   "source": [
    "interlay_prefix = 2032\n",
    "def ss58convert(pk, prefix): \n",
    "    return ss58_encode(pk, ss58_format=prefix)"
   ]
  },
  {
   "cell_type": "code",
   "execution_count": 14,
   "id": "1429b1c6-943a-439f-9979-c819dce3da39",
   "metadata": {},
   "outputs": [],
   "source": [
    "accounts_from_acala = [(ss58_encode(x[\"destAddress\"],ss58_format=interlay_prefix), x[\"amountReceived\"]) for x in acala_interlay_since_attack]\n",
    "accounts_from_moonbeam = [(ss58_encode(x[\"destAddress\"],ss58_format=interlay_prefix), x[\"amountReceived\"]) for x in moonbeam_interlay_since_attack]"
   ]
  },
  {
   "cell_type": "code",
   "execution_count": 15,
   "id": "4ad3e792-4b55-4c19-9bc1-db26c85aed5a",
   "metadata": {},
   "outputs": [
    {
     "data": {
      "text/plain": [
       "90"
      ]
     },
     "execution_count": 15,
     "metadata": {},
     "output_type": "execute_result"
    }
   ],
   "source": [
    "len(accounts_from_moonbeam)There are a lot"
   ]
  },
  {
   "cell_type": "code",
   "execution_count": 16,
   "id": "994a4f29-54e6-4d7b-ac19-5ac0c77bb12a",
   "metadata": {},
   "outputs": [
    {
     "data": {
      "text/plain": [
       "{'wdBywqU5hGgMxQUUyU8gvmoFK4ubhTH1c2NhxAPKQB9JHVhCB': {'acala': 0.00308344,\n",
       "  'moonbeam': 0.024617229999999997},\n",
       " 'wdCDPsf4k56kon1Gyw4RyqCxoL4cNPozasUMmBDnv47g9eJqb': {'acala': 0.14495791000000002,\n",
       "  'moonbeam': 0.45611322999999987},\n",
       " 'wdB8KP6AAej73hvBHvw8XDxTTPGMp6eauLxgce1nE96XRTRy5': {'acala': 0.00413217,\n",
       "  'moonbeam': 0.15706239000000002},\n",
       " 'wdAE42j6vE7uTzKiFY1tJX4yC2DyUUeTNAkjGh5aTpUzfAw83': {'acala': 3.0062178399999997,\n",
       "  'moonbeam': 0},\n",
       " 'wdBg6oWLHw5Xd3WTjP71ZYFn7bQWbNWpEBrb3rJBhwb3AuBcV': {'acala': 0.39915739,\n",
       "  'moonbeam': 0.62632282},\n",
       " 'wdBSKkRCKpZrTvpB6jT59BMCSfR983KRemucMACtCwN5P17VK': {'acala': 0.0661246,\n",
       "  'moonbeam': 0.13856441},\n",
       " 'wd9VYN3oRkKbPeWxrcwEZH7ko2nGhcjyeA66LzxgNzLUX6qjQ': {'acala': 0,\n",
       "  'moonbeam': 1.0247127699999998},\n",
       " 'wdCwFgoKxgrRq1ZpxS93iV2q5e5tmkT3Jw3GAr6kiEezvkbkS': {'acala': 0,\n",
       "  'moonbeam': 0.09999712000000001},\n",
       " 'wdAMHAH58VFWYjuCR4kutUoY1gkWZcGq3cSEwjf6jtjW77ZLm': {'acala': 0,\n",
       "  'moonbeam': 0.01529126},\n",
       " 'wdAe2cbTgSjLTwgfFw2cF64yG8FaCT1z8taMkphL4WAHSGzFZ': {'acala': 0,\n",
       "  'moonbeam': 0.09999928},\n",
       " 'wd8Nb2cA7ZN8ThZt5kfQ3wDmPBk599ZMzT93UDknEyydmEVRe': {'acala': 0,\n",
       "  'moonbeam': 0.00099928},\n",
       " 'wdC2rxtCzL1M9o19d6UnM65gnLUjDmvasr99VRyuVoSsomtJU': {'acala': 0,\n",
       "  'moonbeam': 0.03026252},\n",
       " 'wdAAy3GkjcrNQYeMPuwFoeRB8HVT9LpaZ5KWUr125qHdez3vq': {'acala': 0,\n",
       "  'moonbeam': 0.0018924},\n",
       " 'wd9QGFDPLPhYUnu4wQN7zRG1HRz1t4rMKeMAYUL7QtqyE41Ms': {'acala': 0,\n",
       "  'moonbeam': 0.01288499},\n",
       " 'wdBfoVo9aCwL7EctSKEcP8UK34ZbzLvSvDqUdHcKaKsGvpWLh': {'acala': 0,\n",
       "  'moonbeam': 0.0005782},\n",
       " 'wdCAkhz9j6MQ5h4HEsV142goB4URdnNGQwA9LmZnJGYnF3NKX': {'acala': 0,\n",
       "  'moonbeam': 0.00999928},\n",
       " 'wdAzUF1T6jZ7yiAKop5ojoqziew75BVjewZ5zCE2ayw3MfjcS': {'acala': 0,\n",
       "  'moonbeam': 0.07618483},\n",
       " 'wd7edjFaSyMPUgJp5mJE8Z6yKoM3UQLmAEEDezNDPeBkJQb6W': {'acala': 0,\n",
       "  'moonbeam': 0.05942224000000001},\n",
       " 'wdCQLPjjozkbDR26Fxpg7WiJSByhJPnRNxdRiVNEWPPqQrdKx': {'acala': 0,\n",
       "  'moonbeam': 0.00701199},\n",
       " 'wd9mzdbm6gqoRBkjjgJKnnjfDH73YJSyPpUgVf6Qx5oHB8gXH': {'acala': 0,\n",
       "  'moonbeam': 0.00134836},\n",
       " 'wdA37mNvebFcTPGHHH9nB5AZHfUb5izn2HqDFRKkWokhrbbbu': {'acala': 0,\n",
       "  'moonbeam': 0.01199745}}"
      ]
     },
     "execution_count": 16,
     "metadata": {},
     "output_type": "execute_result"
    }
   ],
   "source": [
    "accounts_xcm_ibtc = {}\n",
    "\n",
    "for (acc, amount) in accounts_from_acala:\n",
    "    if(acc not in accounts_xcm_ibtc):\n",
    "        accounts_xcm_ibtc[acc] = {\"acala\" : 0, \"moonbeam\": 0}\n",
    "    accounts_xcm_ibtc[acc][\"acala\"] += amount\n",
    "\n",
    "for (acc, amount) in accounts_from_moonbeam:\n",
    "    if(acc not in accounts_xcm_ibtc):\n",
    "        accounts_xcm_ibtc[acc] = {\"acala\" : 0, \"moonbeam\": 0}\n",
    "    accounts_xcm_ibtc[acc][\"moonbeam\"] += amount\n",
    "    \n",
    "accounts_xcm_ibtc"
   ]
  },
  {
   "cell_type": "code",
   "execution_count": null,
   "id": "2df51e89-ffaf-470e-9c0e-42ec11801bf9",
   "metadata": {},
   "outputs": [],
   "source": []
  },
  {
   "cell_type": "markdown",
   "id": "7a4f12c7-4962-4f36-9298-0c53388c198c",
   "metadata": {},
   "source": [
    "# Comparing against iBTC redeem requests since "
   ]
  },
  {
   "cell_type": "markdown",
   "id": "46e8bbaa-7b53-4268-8932-5c84f3265563",
   "metadata": {},
   "source": [
    "Now we check if any iBTC moved over from Acala or Moonbeam has already been redeemed.... this is where the problems could arise"
   ]
  },
  {
   "cell_type": "code",
   "execution_count": 17,
   "id": "0a99a64e-d87f-43b0-a0e4-f43b84f2646e",
   "metadata": {},
   "outputs": [],
   "source": [
    "def toBTCDecimals(amount):\n",
    "    return amount / 100_000_000"
   ]
  },
  {
   "cell_type": "code",
   "execution_count": 18,
   "id": "03ebcbeb-b3d5-42a2-a130-a778b564a04e",
   "metadata": {},
   "outputs": [],
   "source": [
    "graphql_api = \"https://api.interlay.io/graphql/graphql\""
   ]
  },
  {
   "cell_type": "code",
   "execution_count": 19,
   "id": "1c126bb4-4e70-4eae-b2bf-c914ca6e3fe6",
   "metadata": {},
   "outputs": [],
   "source": [
    "redeem_requests_since_attack_query = \"\"\"\n",
    "query MyQuery {\n",
    "  redeems(where: {request: {height: {absolute_gt: 975127}}}) {\n",
    "    id\n",
    "    status\n",
    "    userParachainAddress\n",
    "    request {\n",
    "      requestedAmountBacking\n",
    "      height {\n",
    "        absolute\n",
    "      }\n",
    "    }\n",
    "  }\n",
    "}\n",
    "\"\"\""
   ]
  },
  {
   "cell_type": "code",
   "execution_count": 20,
   "id": "4674d1d5-c0d7-416a-8a57-3b5a98e83157",
   "metadata": {},
   "outputs": [],
   "source": [
    "r = requests.post(graphql_api, json={'query': redeem_requests_since_attack_query})\n",
    "redeem_requests_since_attack = r.json()[\"data\"][\"redeems\"]"
   ]
  },
  {
   "cell_type": "code",
   "execution_count": 21,
   "id": "c5413394-f89b-486f-abd1-a8eb3147393b",
   "metadata": {},
   "outputs": [
    {
     "data": {
      "text/plain": [
       "[{'id': '0xfb9ac35558921b1feca273c1b5f4336ec092805700764ad5094767ddc33ee296',\n",
       "  'status': 'Completed',\n",
       "  'userParachainAddress': 'wdBg6oWLHw5Xd3WTjP71ZYFn7bQWbNWpEBrb3rJBhwb3AuBcV',\n",
       "  'request': {'requestedAmountBacking': '14922312',\n",
       "   'height': {'absolute': 975778}}},\n",
       " {'id': '0x2f70855d13a98b8eab32252d4f0da63d7206501b1275c8309ae58671bcba2a2f',\n",
       "  'status': 'Completed',\n",
       "  'userParachainAddress': 'wdBg6oWLHw5Xd3WTjP71ZYFn7bQWbNWpEBrb3rJBhwb3AuBcV',\n",
       "  'request': {'requestedAmountBacking': '24772812',\n",
       "   'height': {'absolute': 975849}}},\n",
       " {'id': '0xda768c592ed88a6277b19e56b24ac3bcd0bf2f6205949379c2f9075b194cca87',\n",
       "  'status': 'Completed',\n",
       "  'userParachainAddress': 'wdAE42j6vE7uTzKiFY1tJX4yC2DyUUeTNAkjGh5aTpUzfAw83',\n",
       "  'request': {'requestedAmountBacking': '299115987',\n",
       "   'height': {'absolute': 976089}}},\n",
       " {'id': '0x4963edd5a3c286b07d6c051bf71841e4be4e77bd1f0435f2cca457f2aa8e253d',\n",
       "  'status': 'Completed',\n",
       "  'userParachainAddress': 'wdBiQZXAvkFS3v1653xXZPvKHyHHYzuU3Xt6GRHtDGdc7JDJ9',\n",
       "  'request': {'requestedAmountBacking': '31623080',\n",
       "   'height': {'absolute': 977750}}},\n",
       " {'id': '0x5c8271670e0f222b8fd712d9e3dea7ec485a56264c5056cc9f65593f9c833883',\n",
       "  'status': 'Completed',\n",
       "  'userParachainAddress': 'wdCwFgoKxgrRq1ZpxS93iV2q5e5tmkT3Jw3GAr6kiEezvkbkS',\n",
       "  'request': {'requestedAmountBacking': '98348',\n",
       "   'height': {'absolute': 979543}}},\n",
       " {'id': '0xcbeb24a02afbb605860c635742b494d989a582e7cb4beb5332637ba230eecc1e',\n",
       "  'status': 'Completed',\n",
       "  'userParachainAddress': 'wdCwFgoKxgrRq1ZpxS93iV2q5e5tmkT3Jw3GAr6kiEezvkbkS',\n",
       "  'request': {'requestedAmountBacking': '3879205',\n",
       "   'height': {'absolute': 979563}}},\n",
       " {'id': '0x8905ff1378a4849e6ce6fc108cea7fbe9c51a91d499aa322883633861da92a72',\n",
       "  'status': 'Pending',\n",
       "  'userParachainAddress': 'wdCwFgoKxgrRq1ZpxS93iV2q5e5tmkT3Jw3GAr6kiEezvkbkS',\n",
       "  'request': {'requestedAmountBacking': '2952008',\n",
       "   'height': {'absolute': 980002}}},\n",
       " {'id': '0xf919176487f66465af9bee57299f9208fde004d1cadc49623c149e526ff7a39f',\n",
       "  'status': 'Pending',\n",
       "  'userParachainAddress': 'wd9VYN3oRkKbPeWxrcwEZH7ko2nGhcjyeA66LzxgNzLUX6qjQ',\n",
       "  'request': {'requestedAmountBacking': '9948848',\n",
       "   'height': {'absolute': 980016}}},\n",
       " {'id': '0xe8db231ff5a78f9b1ba9a8c373b25859863c09fff19b884f528b9b59ca4a3c4b',\n",
       "  'status': 'Completed',\n",
       "  'userParachainAddress': 'wdCwFgoKxgrRq1ZpxS93iV2q5e5tmkT3Jw3GAr6kiEezvkbkS',\n",
       "  'request': {'requestedAmountBacking': '2884348',\n",
       "   'height': {'absolute': 979924}}},\n",
       " {'id': '0x57cb5a2b2f54cfc858f0210935c3ae6a4532c0dedae7856eb9e99b4cf841abec',\n",
       "  'status': 'Completed',\n",
       "  'userParachainAddress': 'wdAMHAH58VFWYjuCR4kutUoY1gkWZcGq3cSEwjf6jtjW77ZLm',\n",
       "  'request': {'requestedAmountBacking': '1528848',\n",
       "   'height': {'absolute': 979915}}}]"
      ]
     },
     "execution_count": 21,
     "metadata": {},
     "output_type": "execute_result"
    }
   ],
   "source": [
    "redeem_requests_since_attack"
   ]
  },
  {
   "cell_type": "code",
   "execution_count": 22,
   "id": "3fa20e1f-565a-4e4f-94f4-48311de13173",
   "metadata": {},
   "outputs": [
    {
     "data": {
      "text/plain": [
       "[{'id': '0xfb9ac35558921b1feca273c1b5f4336ec092805700764ad5094767ddc33ee296',\n",
       "  'status': 'Completed',\n",
       "  'userParachainAddress': 'wdBg6oWLHw5Xd3WTjP71ZYFn7bQWbNWpEBrb3rJBhwb3AuBcV',\n",
       "  'request': {'requestedAmountBacking': '14922312',\n",
       "   'height': {'absolute': 975778}}},\n",
       " {'id': '0x2f70855d13a98b8eab32252d4f0da63d7206501b1275c8309ae58671bcba2a2f',\n",
       "  'status': 'Completed',\n",
       "  'userParachainAddress': 'wdBg6oWLHw5Xd3WTjP71ZYFn7bQWbNWpEBrb3rJBhwb3AuBcV',\n",
       "  'request': {'requestedAmountBacking': '24772812',\n",
       "   'height': {'absolute': 975849}}},\n",
       " {'id': '0xda768c592ed88a6277b19e56b24ac3bcd0bf2f6205949379c2f9075b194cca87',\n",
       "  'status': 'Completed',\n",
       "  'userParachainAddress': 'wdAE42j6vE7uTzKiFY1tJX4yC2DyUUeTNAkjGh5aTpUzfAw83',\n",
       "  'request': {'requestedAmountBacking': '299115987',\n",
       "   'height': {'absolute': 976089}}},\n",
       " {'id': '0x5c8271670e0f222b8fd712d9e3dea7ec485a56264c5056cc9f65593f9c833883',\n",
       "  'status': 'Completed',\n",
       "  'userParachainAddress': 'wdCwFgoKxgrRq1ZpxS93iV2q5e5tmkT3Jw3GAr6kiEezvkbkS',\n",
       "  'request': {'requestedAmountBacking': '98348',\n",
       "   'height': {'absolute': 979543}}},\n",
       " {'id': '0xcbeb24a02afbb605860c635742b494d989a582e7cb4beb5332637ba230eecc1e',\n",
       "  'status': 'Completed',\n",
       "  'userParachainAddress': 'wdCwFgoKxgrRq1ZpxS93iV2q5e5tmkT3Jw3GAr6kiEezvkbkS',\n",
       "  'request': {'requestedAmountBacking': '3879205',\n",
       "   'height': {'absolute': 979563}}},\n",
       " {'id': '0x8905ff1378a4849e6ce6fc108cea7fbe9c51a91d499aa322883633861da92a72',\n",
       "  'status': 'Pending',\n",
       "  'userParachainAddress': 'wdCwFgoKxgrRq1ZpxS93iV2q5e5tmkT3Jw3GAr6kiEezvkbkS',\n",
       "  'request': {'requestedAmountBacking': '2952008',\n",
       "   'height': {'absolute': 980002}}},\n",
       " {'id': '0xf919176487f66465af9bee57299f9208fde004d1cadc49623c149e526ff7a39f',\n",
       "  'status': 'Pending',\n",
       "  'userParachainAddress': 'wd9VYN3oRkKbPeWxrcwEZH7ko2nGhcjyeA66LzxgNzLUX6qjQ',\n",
       "  'request': {'requestedAmountBacking': '9948848',\n",
       "   'height': {'absolute': 980016}}},\n",
       " {'id': '0xe8db231ff5a78f9b1ba9a8c373b25859863c09fff19b884f528b9b59ca4a3c4b',\n",
       "  'status': 'Completed',\n",
       "  'userParachainAddress': 'wdCwFgoKxgrRq1ZpxS93iV2q5e5tmkT3Jw3GAr6kiEezvkbkS',\n",
       "  'request': {'requestedAmountBacking': '2884348',\n",
       "   'height': {'absolute': 979924}}},\n",
       " {'id': '0x57cb5a2b2f54cfc858f0210935c3ae6a4532c0dedae7856eb9e99b4cf841abec',\n",
       "  'status': 'Completed',\n",
       "  'userParachainAddress': 'wdAMHAH58VFWYjuCR4kutUoY1gkWZcGq3cSEwjf6jtjW77ZLm',\n",
       "  'request': {'requestedAmountBacking': '1528848',\n",
       "   'height': {'absolute': 979915}}}]"
      ]
     },
     "execution_count": 22,
     "metadata": {},
     "output_type": "execute_result"
    }
   ],
   "source": [
    "xcm_ibtc_redeems = []\n",
    "\n",
    "for req in redeem_requests_since_attack:\n",
    "    if(req[\"userParachainAddress\"] in accounts_xcm_ibtc):\n",
    "        xcm_ibtc_redeems.append(req)\n",
    "        \n",
    "xcm_ibtc_redeems"
   ]
  },
  {
   "cell_type": "code",
   "execution_count": 23,
   "id": "a0fd63ad-c188-440f-9999-12dd404ac3f1",
   "metadata": {},
   "outputs": [
    {
     "data": {
      "text/plain": [
       "3.60102716"
      ]
     },
     "execution_count": 23,
     "metadata": {},
     "output_type": "execute_result"
    }
   ],
   "source": [
    "toBTCDecimals(sum(int(x[\"request\"][\"requestedAmountBacking\"]) for x in xcm_ibtc_redeems))"
   ]
  },
  {
   "cell_type": "markdown",
   "id": "48dd0627-e601-4383-b4ef-ae100c9ad9b0",
   "metadata": {},
   "source": [
    "# Comparing with attacker accounts"
   ]
  },
  {
   "cell_type": "code",
   "execution_count": 24,
   "id": "4a3a6aa4-f428-46ef-9bda-76a02fe6d651",
   "metadata": {},
   "outputs": [],
   "source": [
    "\n",
    "\n",
    "attacker_accounts = [\n",
    "    \"wdCw3nfLyHYP2NcsVgzvXLfTxWU9RKbUjXkPU9jBqpnVWdyAP\"\n",
    "]\n"
   ]
  },
  {
   "cell_type": "code",
   "execution_count": 25,
   "id": "abb0cf0b-1f81-4b9f-92ca-fa9bfadad911",
   "metadata": {},
   "outputs": [
    {
     "data": {
      "text/plain": [
       "[]"
      ]
     },
     "execution_count": 25,
     "metadata": {},
     "output_type": "execute_result"
    }
   ],
   "source": [
    "attackers_xcm_ibtc = []\n",
    "for a in attacker_accounts:\n",
    "    if a in accounts_xcm_ibtc:\n",
    "        attackers_xcm_ibtc.append(accounts_xcm_ibtc[a])\n",
    "        \n",
    "attackers_xcm_ibtc"
   ]
  },
  {
   "cell_type": "code",
   "execution_count": null,
   "id": "015347df-19d3-4fb3-92de-272b9168ee4a",
   "metadata": {},
   "outputs": [],
   "source": []
  },
  {
   "cell_type": "code",
   "execution_count": null,
   "id": "87857c28-d3fb-49e4-9b61-53d86dc05b5a",
   "metadata": {},
   "outputs": [],
   "source": []
  }
 ],
 "metadata": {
  "kernelspec": {
   "display_name": "Python 3 (ipykernel)",
   "language": "python",
   "name": "python3"
  },
  "language_info": {
   "codemirror_mode": {
    "name": "ipython",
    "version": 3
   },
   "file_extension": ".py",
   "mimetype": "text/x-python",
   "name": "python",
   "nbconvert_exporter": "python",
   "pygments_lexer": "ipython3",
   "version": "3.8.10"
  }
 },
 "nbformat": 4,
 "nbformat_minor": 5
}
